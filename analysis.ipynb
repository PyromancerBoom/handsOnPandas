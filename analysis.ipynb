{
 "cells": [
  {
   "cell_type": "code",
   "execution_count": 1,
   "metadata": {},
   "outputs": [],
   "source": [
    "import pandas as pd\n",
    "\n",
    "df = pd.read_csv('Data.csv')\n"
   ]
  },
  {
   "cell_type": "code",
   "execution_count": 4,
   "metadata": {},
   "outputs": [
    {
     "data": {
      "text/html": [
       "<div>\n",
       "<style scoped>\n",
       "    .dataframe tbody tr th:only-of-type {\n",
       "        vertical-align: middle;\n",
       "    }\n",
       "\n",
       "    .dataframe tbody tr th {\n",
       "        vertical-align: top;\n",
       "    }\n",
       "\n",
       "    .dataframe thead th {\n",
       "        text-align: right;\n",
       "    }\n",
       "</style>\n",
       "<table border=\"1\" class=\"dataframe\">\n",
       "  <thead>\n",
       "    <tr style=\"text-align: right;\">\n",
       "      <th></th>\n",
       "      <th>Suburb</th>\n",
       "      <th>Address</th>\n",
       "      <th>Rooms</th>\n",
       "      <th>Type</th>\n",
       "      <th>Price</th>\n",
       "      <th>Date</th>\n",
       "      <th>SellerG</th>\n",
       "      <th>Distance</th>\n",
       "      <th>Bathroom</th>\n",
       "      <th>Car</th>\n",
       "      <th>Landsize</th>\n",
       "      <th>BuildingArea</th>\n",
       "      <th>YearBuilt</th>\n",
       "      <th>CouncilArea</th>\n",
       "      <th>Lattitude</th>\n",
       "      <th>Longtitude</th>\n",
       "      <th>Regionname</th>\n",
       "      <th>Propertycount</th>\n",
       "    </tr>\n",
       "  </thead>\n",
       "  <tbody>\n",
       "    <tr>\n",
       "      <th>34851</th>\n",
       "      <td>Reservoir</td>\n",
       "      <td>18 Elinda Pl</td>\n",
       "      <td>3</td>\n",
       "      <td>u</td>\n",
       "      <td>475000.0</td>\n",
       "      <td>30/09/2017</td>\n",
       "      <td>Jas</td>\n",
       "      <td>12.0</td>\n",
       "      <td>1.0</td>\n",
       "      <td>1.0</td>\n",
       "      <td>NaN</td>\n",
       "      <td>105.0</td>\n",
       "      <td>1990.0</td>\n",
       "      <td>Darebin City Council</td>\n",
       "      <td>-37.69769</td>\n",
       "      <td>145.02332</td>\n",
       "      <td>Northern Metropolitan</td>\n",
       "      <td>21650.0</td>\n",
       "    </tr>\n",
       "    <tr>\n",
       "      <th>34852</th>\n",
       "      <td>Roxburgh Park</td>\n",
       "      <td>14 Stainsby Cr</td>\n",
       "      <td>4</td>\n",
       "      <td>h</td>\n",
       "      <td>591000.0</td>\n",
       "      <td>30/09/2017</td>\n",
       "      <td>Sweeney</td>\n",
       "      <td>20.6</td>\n",
       "      <td>2.0</td>\n",
       "      <td>2.0</td>\n",
       "      <td>NaN</td>\n",
       "      <td>225.0</td>\n",
       "      <td>1995.0</td>\n",
       "      <td>Hume City Council</td>\n",
       "      <td>-37.63665</td>\n",
       "      <td>144.92976</td>\n",
       "      <td>Northern Metropolitan</td>\n",
       "      <td>5833.0</td>\n",
       "    </tr>\n",
       "    <tr>\n",
       "      <th>34853</th>\n",
       "      <td>Springvale South</td>\n",
       "      <td>8 Bellbird Ct</td>\n",
       "      <td>4</td>\n",
       "      <td>h</td>\n",
       "      <td>NaN</td>\n",
       "      <td>30/09/2017</td>\n",
       "      <td>Jas</td>\n",
       "      <td>22.2</td>\n",
       "      <td>2.0</td>\n",
       "      <td>2.0</td>\n",
       "      <td>534.0</td>\n",
       "      <td>152.0</td>\n",
       "      <td>1970.0</td>\n",
       "      <td>Greater Dandenong City Council</td>\n",
       "      <td>-37.97037</td>\n",
       "      <td>145.15449</td>\n",
       "      <td>South-Eastern Metropolitan</td>\n",
       "      <td>4054.0</td>\n",
       "    </tr>\n",
       "    <tr>\n",
       "      <th>34854</th>\n",
       "      <td>Springvale South</td>\n",
       "      <td>30 Waddington Cr</td>\n",
       "      <td>3</td>\n",
       "      <td>h</td>\n",
       "      <td>780500.0</td>\n",
       "      <td>30/09/2017</td>\n",
       "      <td>hockingstuart</td>\n",
       "      <td>22.2</td>\n",
       "      <td>2.0</td>\n",
       "      <td>1.0</td>\n",
       "      <td>544.0</td>\n",
       "      <td>NaN</td>\n",
       "      <td>NaN</td>\n",
       "      <td>Greater Dandenong City Council</td>\n",
       "      <td>-37.97751</td>\n",
       "      <td>145.14813</td>\n",
       "      <td>South-Eastern Metropolitan</td>\n",
       "      <td>4054.0</td>\n",
       "    </tr>\n",
       "    <tr>\n",
       "      <th>34855</th>\n",
       "      <td>Westmeadows</td>\n",
       "      <td>42 Pascoe St</td>\n",
       "      <td>4</td>\n",
       "      <td>h</td>\n",
       "      <td>791000.0</td>\n",
       "      <td>30/09/2017</td>\n",
       "      <td>RW</td>\n",
       "      <td>16.5</td>\n",
       "      <td>2.0</td>\n",
       "      <td>6.0</td>\n",
       "      <td>813.0</td>\n",
       "      <td>140.0</td>\n",
       "      <td>1960.0</td>\n",
       "      <td>Hume City Council</td>\n",
       "      <td>-37.67631</td>\n",
       "      <td>144.89409</td>\n",
       "      <td>Northern Metropolitan</td>\n",
       "      <td>2474.0</td>\n",
       "    </tr>\n",
       "  </tbody>\n",
       "</table>\n",
       "</div>"
      ],
      "text/plain": [
       "                 Suburb           Address  Rooms Type     Price        Date  \\\n",
       "34851         Reservoir      18 Elinda Pl      3    u  475000.0  30/09/2017   \n",
       "34852     Roxburgh Park    14 Stainsby Cr      4    h  591000.0  30/09/2017   \n",
       "34853  Springvale South     8 Bellbird Ct      4    h       NaN  30/09/2017   \n",
       "34854  Springvale South  30 Waddington Cr      3    h  780500.0  30/09/2017   \n",
       "34855       Westmeadows      42 Pascoe St      4    h  791000.0  30/09/2017   \n",
       "\n",
       "             SellerG  Distance  Bathroom  Car  Landsize  BuildingArea  \\\n",
       "34851            Jas      12.0       1.0  1.0       NaN         105.0   \n",
       "34852        Sweeney      20.6       2.0  2.0       NaN         225.0   \n",
       "34853            Jas      22.2       2.0  2.0     534.0         152.0   \n",
       "34854  hockingstuart      22.2       2.0  1.0     544.0           NaN   \n",
       "34855             RW      16.5       2.0  6.0     813.0         140.0   \n",
       "\n",
       "       YearBuilt                     CouncilArea  Lattitude  Longtitude  \\\n",
       "34851     1990.0            Darebin City Council  -37.69769   145.02332   \n",
       "34852     1995.0               Hume City Council  -37.63665   144.92976   \n",
       "34853     1970.0  Greater Dandenong City Council  -37.97037   145.15449   \n",
       "34854        NaN  Greater Dandenong City Council  -37.97751   145.14813   \n",
       "34855     1960.0               Hume City Council  -37.67631   144.89409   \n",
       "\n",
       "                       Regionname  Propertycount  \n",
       "34851       Northern Metropolitan        21650.0  \n",
       "34852       Northern Metropolitan         5833.0  \n",
       "34853  South-Eastern Metropolitan         4054.0  \n",
       "34854  South-Eastern Metropolitan         4054.0  \n",
       "34855       Northern Metropolitan         2474.0  "
      ]
     },
     "execution_count": 4,
     "metadata": {},
     "output_type": "execute_result"
    }
   ],
   "source": [
    "df.tail()\n"
   ]
  },
  {
   "attachments": {},
   "cell_type": "markdown",
   "metadata": {},
   "source": [
    "Q. Finding Average and median prices of the houses in Melbourne"
   ]
  },
  {
   "cell_type": "code",
   "execution_count": 14,
   "metadata": {},
   "outputs": [
    {
     "name": "stdout",
     "output_type": "stream",
     "text": [
      "Mean:  1050173.0\n",
      "Median:  870000.0\n"
     ]
    }
   ],
   "source": [
    "meanPrice = df['Price'].mean().round()\n",
    "medianPrice = df['Price'].median()\n",
    "\n",
    "print(\"Mean: \", meanPrice)\n",
    "print(\"Median: \", medianPrice)"
   ]
  },
  {
   "attachments": {},
   "cell_type": "markdown",
   "metadata": {},
   "source": [
    "Q. What are the top 3 most expensive suburbs to buy a house? "
   ]
  },
  {
   "cell_type": "code",
   "execution_count": 16,
   "metadata": {},
   "outputs": [
    {
     "data": {
      "text/plain": [
       "Suburb\n",
       "Abbotsford      1033549.0\n",
       "Aberfeldie      1307193.0\n",
       "Airport West     751364.0\n",
       "Albanvale        536056.0\n",
       "Albert Park     1927651.0\n",
       "                  ...    \n",
       "Yallambie        820861.0\n",
       "Yarra Glen       620000.0\n",
       "Yarraville       991245.0\n",
       "croydon          730000.0\n",
       "viewbank         885000.0\n",
       "Name: Price, Length: 351, dtype: float64"
      ]
     },
     "execution_count": 16,
     "metadata": {},
     "output_type": "execute_result"
    }
   ],
   "source": [
    "prices_per_suburb = df.groupby(['Suburb'])['Price'].mean().round()\n",
    "prices_per_suburb\n"
   ]
  }
 ],
 "metadata": {
  "kernelspec": {
   "display_name": "Python 3",
   "language": "python",
   "name": "python3"
  },
  "language_info": {
   "codemirror_mode": {
    "name": "ipython",
    "version": 3
   },
   "file_extension": ".py",
   "mimetype": "text/x-python",
   "name": "python",
   "nbconvert_exporter": "python",
   "pygments_lexer": "ipython3",
   "version": "3.10.2"
  },
  "orig_nbformat": 4,
  "vscode": {
   "interpreter": {
    "hash": "369f2c481f4da34e4445cda3fffd2e751bd1c4d706f27375911949ba6bb62e1c"
   }
  }
 },
 "nbformat": 4,
 "nbformat_minor": 2
}
